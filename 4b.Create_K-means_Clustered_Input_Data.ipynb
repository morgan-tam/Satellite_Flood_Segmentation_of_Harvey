{
 "cells": [
  {
   "cell_type": "markdown",
   "metadata": {},
   "source": [
    "# 4b. Create K-means Clustered Input Data"
   ]
  },
  {
   "cell_type": "markdown",
   "metadata": {},
   "source": [
    "I used the method from the K means exploration to find the cluster that intersect with the prediction and union with the radarsat ground truth. I didn't use any multiprocessing this time because I will already be using all cores for K-means clustering instead of spliting up the work of making masks."
   ]
  },
  {
   "cell_type": "markdown",
   "metadata": {},
   "source": [
    "## Setup "
   ]
  },
  {
   "cell_type": "code",
   "execution_count": 1,
   "metadata": {},
   "outputs": [
    {
     "name": "stderr",
     "output_type": "stream",
     "text": [
      "Using TensorFlow backend.\n"
     ]
    },
    {
     "name": "stdout",
     "output_type": "stream",
     "text": [
      "1.2.0\n"
     ]
    }
   ],
   "source": [
    "import cv2\n",
    "import geopandas as gpd\n",
    "import matplotlib.pyplot as plt\n",
    "import numpy as np\n",
    "import os\n",
    "import rasterio\n",
    "import shapely.geometry\n",
    "\n",
    "import re\n",
    "import numpy as np \n",
    "\n",
    "import matplotlib.pyplot as plt\n",
    "import os\n",
    "import re\n",
    "import cv2\n",
    "from scipy.misc import imresize\n",
    "from u_net_functions import dice_coef, dice_coef_loss, jacc_coef, jacc_coef_loss, jacc_coef_int, get_unet\n",
    "from resnet_functions import fcn_model\n",
    "from sklearn.cluster import KMeans\n",
    "\n",
    "import tensorflow as tf\n",
    "print(tf.__version__)\n",
    "\n",
    "%matplotlib inline"
   ]
  },
  {
   "cell_type": "code",
   "execution_count": 2,
   "metadata": {
    "collapsed": true
   },
   "outputs": [],
   "source": [
    "model = get_unet()\n",
    "model.load_weights('unet_checkpoints_1/weights.78-0.13961.hdf5')\n",
    "#This is an initialization for K-means instead of using K++. I got this from a diverse image fro mthe training sample.\n",
    "init_center = np.array([[ 58,  79,  41],\n",
    "                       [ 77,  77,  54],\n",
    "                       [ 73,  96,  53],\n",
    "                       [ 50,  68,  36],\n",
    "                       [ 65,  87,  47],\n",
    "                       [ 40,  56,  29],\n",
    "                       [ 71,  73,  50],\n",
    "                       [ 87, 101,  64]], dtype='uint8')"
   ]
  },
  {
   "cell_type": "markdown",
   "metadata": {},
   "source": [
    "## Helper Functions"
   ]
  },
  {
   "cell_type": "code",
   "execution_count": 3,
   "metadata": {
    "collapsed": true
   },
   "outputs": [],
   "source": [
    "def invert(img):\n",
    "    return (1-img)\n",
    "def resize(img, new_shape):\n",
    "    img_resized = np.zeros(new_shape+(img.shape[2],)).astype('float32')\n",
    "    for i in range(img.shape[2]):\n",
    "        img_resized[:, :, i] = imresize(img[:, :, i], new_shape, interp='bicubic')\n",
    "    return img_resized\n",
    "\n",
    "def scale_bands(img, lower_pct = 1, upper_pct = 99):\n",
    "    \"\"\"\n",
    "    Rescale the bands of a multichannel image for display\n",
    "    \"\"\"\n",
    "    # Loop through the image bands, rescaling each one\n",
    "    img_scaled = np.zeros(img.shape, np.uint8)\n",
    "    \n",
    "    for i in range(img.shape[2]):\n",
    "        \n",
    "        band = img[:, :, i]\n",
    "        \n",
    "        # Pick out the lower and upper percentiles\n",
    "        lower, upper = np.percentile(band, [lower_pct, upper_pct])\n",
    "        \n",
    "        # Normalize the band\n",
    "        band = (band - lower) / (upper - lower) * 255\n",
    "        \n",
    "        # Clip the high and low values, and cast to uint8\n",
    "        img_scaled[:, :, i] = np.clip(band, 0, 255).astype(np.uint8)\n",
    "        \n",
    "    return img_scaled\n",
    "\n",
    "from sklearn.metrics import jaccard_similarity_score\n",
    "# Function to create an iterator with examples\n",
    "smooth=1\n",
    "def jacc_coef_int(y_true, y_pred):\n",
    "    y_pred_pos = y_pred\n",
    "    intersection = np.sum(y_true * y_pred_pos)\n",
    "    sum_ = np.sum(y_true + y_pred)\n",
    "    jac = (intersection + smooth) / (sum_ - intersection + smooth)\n",
    "    return np.mean(jac)\n",
    "\n",
    "def dice_coef(y_true, y_pred):\n",
    "    y_true_f = y_true.flatten()\n",
    "    y_pred_f = y_pred.flatten()\n",
    "    intersection = np.sum(y_true_f * y_pred_f)\n",
    "    return (2. * intersection + smooth) / (np.sum(y_true_f) + np.sum(y_pred_f) + smooth)"
   ]
  },
  {
   "cell_type": "markdown",
   "metadata": {},
   "source": [
    "## Main Function  "
   ]
  },
  {
   "cell_type": "code",
   "execution_count": 4,
   "metadata": {
    "collapsed": true
   },
   "outputs": [],
   "source": [
    "def make_files(files, input_size,init_center):\n",
    "    num = 0\n",
    "    for tile_no in files:\n",
    "        #Loading and resizing Image\n",
    "        img = np.load(tile_no + '_img.npy') \n",
    "        img = resize(img, (input_size, input_size))\n",
    "        X = img.astype('float32')\n",
    "        X = (X / X.max() - 0.5) * 2\n",
    "        Z = img.reshape((-1,3))\n",
    "        Z = np.float32(Z)\n",
    "\n",
    "        #Loading and resizing Radar Ground Truth Masks\n",
    "        mask = np.load(tile_no + '_mask.npy')\n",
    "        Y = imresize(mask, (input_size, input_size))\n",
    "        Y = Y.astype('float32') / 255\n",
    "\n",
    "        #Runing predictions with U-Net\n",
    "        predict_unet = model.predict(X[None, ...])[0, ...] > 0.15\n",
    "        predict_unet = predict_unet * 1\n",
    "        predict_unet = predict_unet[:, :, 0]\n",
    "\n",
    "        K_intersect_P = dict()\n",
    "        K_intersect_R = dict()\n",
    "        K_segment = dict()\n",
    "        K_overlap = dict()\n",
    "\n",
    "        K = 8\n",
    "        for k in range(4,K):\n",
    "            kmeans = KMeans(n_clusters=k, n_jobs=-1,init=init_center[:k]).fit(Z)\n",
    "            label = kmeans.labels_\n",
    "            center = kmeans.cluster_centers_\n",
    "            center = np.uint8(center)\n",
    "\n",
    "            segment_list = []\n",
    "            total_intersect_list_P = []\n",
    "            overlap_list = []\n",
    "\n",
    "            total_intersect_list_R = []\n",
    "\n",
    "            for cluster in range(0,k):\n",
    "                label_mask = label.flatten()==cluster\n",
    "                res = center[:,0][label_mask*1]\n",
    "                res2 = res.reshape((input_size,input_size,))\n",
    "                segment = cv2.normalize(res2,dst=np.zeros(shape=(input_size,input_size)),alpha=0,beta=1,norm_type=cv2.NORM_MINMAX)\n",
    "                #if cluster == 0:\n",
    "                #    segment = invert(segment)\n",
    "                segment_list.append(segment)\n",
    "\n",
    "                intersection = np.sum(predict_unet.flatten() * segment.flatten())\n",
    "                total_intersect_list_P.append(intersection)\n",
    "                overlap_list.append((predict_unet.flatten()*segment.flatten()).reshape((input_size,input_size,)))\n",
    "\n",
    "                intersection = np.sum(Y.flatten() * segment.flatten())\n",
    "                total_intersect_list_R.append(intersection)\n",
    "\n",
    "            index_P = np.argmax(total_intersect_list_P)   \n",
    "            index_R = np.argmax(total_intersect_list_R)\n",
    "            cluster_mask = segment_list[index_P] #Just cluster mask\n",
    "            overlap_mask = overlap_list[index_P] #Intersection of cluster and prediction\n",
    "\n",
    "            if index_P == index_R:\n",
    "                K_intersect_P[k] = max(total_intersect_list_P)\n",
    "                K_intersect_R[k] = max(total_intersect_list_R)\n",
    "                K_segment[k] = cluster_mask\n",
    "                K_overlap[k] = overlap_mask \n",
    "\n",
    "        if len(K_intersect_P) > 0:\n",
    "            best_K = max(K_intersect_R, key=K_intersect_R.get)\n",
    "            #Intersect wiht prediction and union with RADARSAT\n",
    "            new_cluster_mask = np.array([1 if pixel==2 else 1 if pixel == 1 else 0 for pixel in ((K_overlap[best_K]).flatten()+Y.flatten())]).reshape((input_size,input_size)).astype('uint8')\n",
    "            #new_cluster_mask = K_overlap[best_K]\n",
    "\n",
    "            #Make file\n",
    "            np.save(\"training_tiles_clustered/%d_mask\"%num, new_cluster_mask)\n",
    "            np.save(\"training_tiles_clustered/%d_img\"%num, img)\n",
    "            num += 1\n"
   ]
  },
  {
   "cell_type": "markdown",
   "metadata": {},
   "source": [
    "## Generating Masks "
   ]
  },
  {
   "cell_type": "code",
   "execution_count": null,
   "metadata": {},
   "outputs": [
    {
     "name": "stderr",
     "output_type": "stream",
     "text": [
      "/home/mlt/anaconda2/lib/python2.7/site-packages/sklearn/cluster/k_means_.py:889: RuntimeWarning: Explicit initial center position passed: performing only one init in k-means instead of n_init=10\n",
      "  return_n_iter=True)\n"
     ]
    }
   ],
   "source": [
    "input_size = 256\n",
    "#os.makedirs('training_tiles2')\n",
    "\n",
    "dir_path = 'training_tiles_1000size/'\n",
    "np_files = [os.path.join(path,f[:f.find('_img.npy')])\n",
    "             for path,_,files in os.walk(dir_path) \n",
    "             for f in files if (f.endswith('img.npy'))]\n",
    "\n",
    "if not os.path.exists('training_tiles_clustered'):\n",
    "    os.makedirs('training_tiles_clustered')\n",
    "\n",
    "\n",
    "make_files(np_files, input_size,init_center)"
   ]
  },
  {
   "cell_type": "code",
   "execution_count": null,
   "metadata": {
    "collapsed": true
   },
   "outputs": [],
   "source": []
  },
  {
   "cell_type": "code",
   "execution_count": null,
   "metadata": {
    "collapsed": true
   },
   "outputs": [],
   "source": []
  },
  {
   "cell_type": "code",
   "execution_count": null,
   "metadata": {
    "collapsed": true
   },
   "outputs": [],
   "source": []
  }
 ],
 "metadata": {
  "kernelspec": {
   "display_name": "Python 2",
   "language": "python",
   "name": "python2"
  },
  "language_info": {
   "codemirror_mode": {
    "name": "ipython",
    "version": 2
   },
   "file_extension": ".py",
   "mimetype": "text/x-python",
   "name": "python",
   "nbconvert_exporter": "python",
   "pygments_lexer": "ipython2",
   "version": "2.7.14"
  }
 },
 "nbformat": 4,
 "nbformat_minor": 2
}
